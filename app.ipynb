{
 "cells": [
  {
   "cell_type": "code",
   "execution_count": 1,
   "metadata": {},
   "outputs": [],
   "source": [
    "from playwright.async_api import async_playwright, Response\n",
    "import requests\n",
    "import io\n",
    "from PIL import Image\n",
    "\n",
    "# async def change_language(page: any, language: str):\n",
    "#     lang_test_id = \"lang-\" + language\n",
    "#     await page.get_by_test_id(\"lang-switch\").click()\n",
    "#     await page.get_by_test_id(lang_test_id).click()\n",
    "#     await page.wait_for_selector(selector=\"#root\")\n",
    "\n",
    "async with async_playwright() as pw:\n",
    "    browser = await pw.chromium.launch(headless=False)\n",
    "    context = await browser.new_context(viewport={\"width\": 1022, \"height\": 1080})\n",
    "    page = await context.new_page()\n",
    "\n",
    "    # go to url\n",
    "    await page.goto(\"https://seller.dev.nocnoc-internal.com/\")\n",
    "    # wait for finish loading\n",
    "    await page.wait_for_selector(selector=\"#root\")\n",
    "\n",
    "    # Locate the image using the XPath selector for the `data-testid` attribute and get the first matching element\n",
    "    image = await page.wait_for_selector(\"//img[@data-testid='lang-switch']\")\n",
    "\n",
    "    # Then we can click on the image\n",
    "    await image.click()\n",
    "    # Let's proceed step by step.\n",
    "\n",
    "    # # Locate the \"EN\" option in the dropdown list using its unique attributes and get the first matching element\n",
    "    en_option = await page.wait_for_selector(\"//div[@data-testid='lang-en']\")\n",
    "\n",
    "    # Click on the \"EN\" option\n",
    "    await en_option.click()\n",
    "\n",
    "\n",
    "    while True:\n",
    "        await page.wait_for_timeout(10000)\n",
    "\n"
   ]
  }
 ],
 "metadata": {
  "kernelspec": {
   "display_name": "poc-playwright",
   "language": "python",
   "name": "python3"
  },
  "language_info": {
   "codemirror_mode": {
    "name": "ipython",
    "version": 3
   },
   "file_extension": ".py",
   "mimetype": "text/x-python",
   "name": "python",
   "nbconvert_exporter": "python",
   "pygments_lexer": "ipython3",
   "version": "3.12.3"
  }
 },
 "nbformat": 4,
 "nbformat_minor": 2
}
